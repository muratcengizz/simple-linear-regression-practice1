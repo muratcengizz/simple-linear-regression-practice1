{
 "cells": [
  {
   "cell_type": "markdown",
   "id": "c913f6f8-92b8-4887-95c7-148bba25783e",
   "metadata": {},
   "source": [
    "# Basit Doğrusal Regresyon - Model Tuning - Model Doğrulama"
   ]
  },
  {
   "cell_type": "markdown",
   "id": "30b6084a-69f7-4771-b955-fff9f45d03a8",
   "metadata": {},
   "source": [
    "### Bir araba satıcısı, araba fiyatlarını müşterilerine teklif ederken, arabanın kilometresi ile fiyat arasında bir ilişki olduğunu düşünüyor. bu nedenle, müşterilerin sunduğu birkaç arabanın fiyatını ve kilometresini içeren bir veri seti oluşturuyor."
   ]
  },
  {
   "cell_type": "code",
   "execution_count": 14,
   "id": "b704a926-5ce8-4ced-b5ca-669948eb289b",
   "metadata": {},
   "outputs": [],
   "source": [
    "import numpy as np\n",
    "import pandas as pd\n",
    "from sklearn.linear_model import LinearRegression\n",
    "from sklearn.metrics import mean_squared_error, r2_score"
   ]
  },
  {
   "cell_type": "code",
   "execution_count": 2,
   "id": "852d4bc3-e21b-49a4-a562-978533735905",
   "metadata": {},
   "outputs": [
    {
     "data": {
      "text/html": [
       "<div>\n",
       "<style scoped>\n",
       "    .dataframe tbody tr th:only-of-type {\n",
       "        vertical-align: middle;\n",
       "    }\n",
       "\n",
       "    .dataframe tbody tr th {\n",
       "        vertical-align: top;\n",
       "    }\n",
       "\n",
       "    .dataframe thead th {\n",
       "        text-align: right;\n",
       "    }\n",
       "</style>\n",
       "<table border=\"1\" class=\"dataframe\">\n",
       "  <thead>\n",
       "    <tr style=\"text-align: right;\">\n",
       "      <th></th>\n",
       "      <th>kilometreler</th>\n",
       "      <th>fiyatlar</th>\n",
       "    </tr>\n",
       "  </thead>\n",
       "  <tbody>\n",
       "    <tr>\n",
       "      <th>0</th>\n",
       "      <td>131958</td>\n",
       "      <td>74777.722620</td>\n",
       "    </tr>\n",
       "    <tr>\n",
       "      <th>1</th>\n",
       "      <td>156867</td>\n",
       "      <td>87850.112500</td>\n",
       "    </tr>\n",
       "    <tr>\n",
       "      <th>2</th>\n",
       "      <td>141932</td>\n",
       "      <td>79762.586776</td>\n",
       "    </tr>\n",
       "    <tr>\n",
       "      <th>3</th>\n",
       "      <td>113694</td>\n",
       "      <td>70551.556369</td>\n",
       "    </tr>\n",
       "    <tr>\n",
       "      <th>4</th>\n",
       "      <td>129879</td>\n",
       "      <td>74912.505551</td>\n",
       "    </tr>\n",
       "  </tbody>\n",
       "</table>\n",
       "</div>"
      ],
      "text/plain": [
       "   kilometreler      fiyatlar\n",
       "0        131958  74777.722620\n",
       "1        156867  87850.112500\n",
       "2        141932  79762.586776\n",
       "3        113694  70551.556369\n",
       "4        129879  74912.505551"
      ]
     },
     "execution_count": 2,
     "metadata": {},
     "output_type": "execute_result"
    }
   ],
   "source": [
    "# veri setinin oluşturulması\n",
    "\n",
    "np.random.seed(42)\n",
    "kilometreler = np.random.randint(10000, 200000, 50)\n",
    "fiyatlar = 10000 + kilometreler * 0.5 + np.random.normal(0, 2000, 50)\n",
    "\n",
    "df = pd.DataFrame({\n",
    "    'kilometreler': kilometreler,\n",
    "    'fiyatlar': fiyatlar\n",
    "})\n",
    "\n",
    "df.head()"
   ]
  },
  {
   "cell_type": "markdown",
   "id": "72718278-47e3-4a57-bea8-ee801e79d884",
   "metadata": {},
   "source": [
    "#### Bu kod, 10.000 TL ile 200.000 TL arasında rastgele kilometreler oluşturur ve bunları kullanarak bir fiyat oluşturur. Fiyatlara rastgele bir normal dağılım eklenir."
   ]
  },
  {
   "cell_type": "code",
   "execution_count": 4,
   "id": "f83e9ac6-3329-4fd1-9cad-8496daff7987",
   "metadata": {},
   "outputs": [],
   "source": [
    "# bağımlı ve bağımsız değişkenin oluşturulması\n",
    "\n",
    "X = df[['kilometreler']]\n",
    "y = df['fiyatlar']"
   ]
  },
  {
   "cell_type": "code",
   "execution_count": 5,
   "id": "179c380e-cd5a-47d3-a4df-860262e003ef",
   "metadata": {},
   "outputs": [
    {
     "data": {
      "text/plain": [
       "LinearRegression()"
      ]
     },
     "execution_count": 5,
     "metadata": {},
     "output_type": "execute_result"
    }
   ],
   "source": [
    "# modelin oluşturulması ve eğitilmesi\n",
    "\n",
    "model = LinearRegression()\n",
    "model.fit(X, y)"
   ]
  },
  {
   "cell_type": "code",
   "execution_count": 17,
   "id": "4c054ea4-2672-4c48-a80f-cb2a6c23fa58",
   "metadata": {},
   "outputs": [
    {
     "data": {
      "text/plain": [
       "0.9943169936404143"
      ]
     },
     "execution_count": 17,
     "metadata": {},
     "output_type": "execute_result"
    }
   ],
   "source": [
    "# R-kare değerinin gözlenmesi.\n",
    "r2_score(y, y_pred)"
   ]
  },
  {
   "cell_type": "markdown",
   "id": "1ac5e410-c611-4c78-9e23-71f792c16ab4",
   "metadata": {},
   "source": [
    "#### R-kare değeri, 0 ile 1 arasında değer alır ve bağımsız değişkenin bağımlı değişkeni ne kadar iyi açıkladığını temsil eder. Bu, modelin ne kadar başarılı olduğu anlamına da gelebilir. Yukarıda R-kare değerine bakarsak başarılı bir model kurduğumuzu söyleyebiliriz."
   ]
  },
  {
   "cell_type": "code",
   "execution_count": 8,
   "id": "092d5f74-1d4a-4f6c-83aa-a4fc5b5d99f0",
   "metadata": {},
   "outputs": [
    {
     "data": {
      "text/plain": [
       "array([75791.04596106, 88197.0168568 , 80758.6140575 , 66694.62890539,\n",
       "       74755.59638492])"
      ]
     },
     "execution_count": 8,
     "metadata": {},
     "output_type": "execute_result"
    }
   ],
   "source": [
    "# Tahmin işlemi\n",
    "\n",
    "y_pred = model.predict(X)\n",
    "y_pred[0:5]"
   ]
  },
  {
   "cell_type": "code",
   "execution_count": 11,
   "id": "142038c7-734d-40c1-a69a-eee02a724b08",
   "metadata": {},
   "outputs": [
    {
     "name": "stdout",
     "output_type": "stream",
     "text": [
      "RMSE: 1902.70\n"
     ]
    }
   ],
   "source": [
    "# tahminleri gerçek fiyatlarla karşılaştırma işlemi\n",
    "\n",
    "rmse = mean_squared_error(y, y_pred, squared=False)\n",
    "print(f'RMSE: {rmse:.2f}')"
   ]
  },
  {
   "cell_type": "markdown",
   "id": "0cf7b044-9c12-4fb9-9722-6085b99e5c59",
   "metadata": {},
   "source": [
    "#### Bu kod, 'mean_squared_error' fonksiyonunu kullanarak, gerçek fiyatlar ve tahmin edilen fiyatları karşılaştırır ve kök ortalama kare hatayı (RMSE) hesaplar. RMSE, modelin tahminlerinin gerçek fiyatlardan ne kadar uzak olduğunu ölçer ve ne kadar düşük olursa, o kadar iyi bir modeldir."
   ]
  },
  {
   "cell_type": "code",
   "execution_count": 13,
   "id": "98e88512-b867-43e2-a1d3-2da07ea1a606",
   "metadata": {},
   "outputs": [
    {
     "name": "stdout",
     "output_type": "stream",
     "text": [
      "Model 1 RMSE: 1902.70\n",
      "Model 2 RMSE: 1902.70\n"
     ]
    }
   ],
   "source": [
    "# model tuning ve model doğrulama işlemlerinin yapılması\n",
    "\n",
    "models = []\n",
    "\n",
    "for fit_intercept in [True, False]:\n",
    "    model = LinearRegression(fit_intercept=fit_intercept)\n",
    "    model.fit(X, y)\n",
    "    models.append(model)\n",
    "\n",
    "for i, model in enumerate(models):\n",
    "    tahminler = model.predict(X)\n",
    "    rmse = mean_squared_error(y, y_pred, squared=False)\n",
    "    print(f'Model {i+1} RMSE: {rmse:.2f}')"
   ]
  },
  {
   "cell_type": "markdown",
   "id": "cee8945c-9694-4dda-abd9-d20974108b71",
   "metadata": {},
   "source": [
    "#### Yukarıda, 'fit_intercept' parametresi, modele bir kesim ekleyip eklemediğimizi belirler. Bu kod, 'True' ve 'False' olarak iki farklı değer kullanarak, iki farklı model oluşturur ve her biri için RMSE değerlerini hesaplar."
   ]
  }
 ],
 "metadata": {
  "kernelspec": {
   "display_name": "Python 3 (ipykernel)",
   "language": "python",
   "name": "python3"
  },
  "language_info": {
   "codemirror_mode": {
    "name": "ipython",
    "version": 3
   },
   "file_extension": ".py",
   "mimetype": "text/x-python",
   "name": "python",
   "nbconvert_exporter": "python",
   "pygments_lexer": "ipython3",
   "version": "3.9.12"
  }
 },
 "nbformat": 4,
 "nbformat_minor": 5
}
